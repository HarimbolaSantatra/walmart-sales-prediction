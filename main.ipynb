{
 "cells": [
  {
   "cell_type": "code",
   "execution_count": 1,
   "id": "86252cf9",
   "metadata": {},
   "outputs": [],
   "source": [
    "# jupyter config\n",
    "%reset -f\n",
    "%matplotlib inline"
   ]
  },
  {
   "cell_type": "code",
   "execution_count": 2,
   "id": "66712a1b",
   "metadata": {},
   "outputs": [],
   "source": [
    "import pandas as pd\n",
    "import numpy as np\n",
    "import matplotlib.pyplot as plt"
   ]
  },
  {
   "cell_type": "markdown",
   "id": "089ad0fe",
   "metadata": {},
   "source": [
    "# Importing the data"
   ]
  },
  {
   "cell_type": "code",
   "execution_count": 3,
   "id": "5e6fbf8b",
   "metadata": {},
   "outputs": [],
   "source": [
    "# Import Data\n",
    "train_data = pd.read_csv('dataset/train.csv')\n",
    "features_data = pd.read_csv('dataset/features.csv')\n",
    "stores_data = pd.read_csv('dataset/stores.csv')\n",
    "test_data = pd.read_csv('dataset/test.csv')"
   ]
  },
  {
   "cell_type": "code",
   "execution_count": 4,
   "id": "94db16ae",
   "metadata": {},
   "outputs": [],
   "source": [
    "# Merge datasets\n",
    "X = pd.merge(stores_data, pd.merge(train_data, features_data))\n",
    "Xtest = pd.merge(stores_data, pd.merge(test_data, features_data))"
   ]
  },
  {
   "cell_type": "markdown",
   "id": "efd266dd",
   "metadata": {},
   "source": [
    "# Exploratory Dataset Analysis: \n",
    "## Check missing values and attributes types"
   ]
  },
  {
   "cell_type": "code",
   "execution_count": 5,
   "id": "2f19a9a8",
   "metadata": {},
   "outputs": [
    {
     "name": "stdout",
     "output_type": "stream",
     "text": [
      "<class 'pandas.core.frame.DataFrame'>\n",
      "Int64Index: 421570 entries, 0 to 421569\n",
      "Data columns (total 16 columns):\n",
      " #   Column        Non-Null Count   Dtype  \n",
      "---  ------        --------------   -----  \n",
      " 0   Store         421570 non-null  int64  \n",
      " 1   Type          421570 non-null  object \n",
      " 2   Size          421570 non-null  int64  \n",
      " 3   Dept          421570 non-null  int64  \n",
      " 4   Date          421570 non-null  object \n",
      " 5   Weekly_Sales  421570 non-null  float64\n",
      " 6   IsHoliday     421570 non-null  bool   \n",
      " 7   Temperature   421570 non-null  float64\n",
      " 8   Fuel_Price    421570 non-null  float64\n",
      " 9   MarkDown1     150681 non-null  float64\n",
      " 10  MarkDown2     111248 non-null  float64\n",
      " 11  MarkDown3     137091 non-null  float64\n",
      " 12  MarkDown4     134967 non-null  float64\n",
      " 13  MarkDown5     151432 non-null  float64\n",
      " 14  CPI           421570 non-null  float64\n",
      " 15  Unemployment  421570 non-null  float64\n",
      "dtypes: bool(1), float64(10), int64(3), object(2)\n",
      "memory usage: 51.9+ MB\n"
     ]
    }
   ],
   "source": [
    "X.info()"
   ]
  },
  {
   "cell_type": "code",
   "execution_count": 6,
   "id": "3aa13fab",
   "metadata": {},
   "outputs": [
    {
     "name": "stdout",
     "output_type": "stream",
     "text": [
      "<class 'pandas.core.frame.DataFrame'>\n",
      "Int64Index: 115064 entries, 0 to 115063\n",
      "Data columns (total 15 columns):\n",
      " #   Column        Non-Null Count   Dtype  \n",
      "---  ------        --------------   -----  \n",
      " 0   Store         115064 non-null  int64  \n",
      " 1   Type          115064 non-null  object \n",
      " 2   Size          115064 non-null  int64  \n",
      " 3   Dept          115064 non-null  int64  \n",
      " 4   Date          115064 non-null  object \n",
      " 5   IsHoliday     115064 non-null  bool   \n",
      " 6   Temperature   115064 non-null  float64\n",
      " 7   Fuel_Price    115064 non-null  float64\n",
      " 8   MarkDown1     114915 non-null  float64\n",
      " 9   MarkDown2     86437 non-null   float64\n",
      " 10  MarkDown3     105235 non-null  float64\n",
      " 11  MarkDown4     102176 non-null  float64\n",
      " 12  MarkDown5     115064 non-null  float64\n",
      " 13  CPI           76902 non-null   float64\n",
      " 14  Unemployment  76902 non-null   float64\n",
      "dtypes: bool(1), float64(9), int64(3), object(2)\n",
      "memory usage: 13.3+ MB\n"
     ]
    }
   ],
   "source": [
    "Xtest.info()"
   ]
  },
  {
   "cell_type": "markdown",
   "id": "cec1ba38",
   "metadata": {},
   "source": [
    "- There's missing values in the MarkDowns* columns of the training set.\n",
    "- There's missing values in the following columns of the test set: MarkDowns*, CPI, Unemployment.\n",
    "\n",
    "So there's too many missing values in the Markdowns columns."
   ]
  },
  {
   "cell_type": "markdown",
   "id": "4d2a1088",
   "metadata": {},
   "source": [
    "## Correlation"
   ]
  },
  {
   "cell_type": "code",
   "execution_count": 7,
   "id": "36ded52b",
   "metadata": {},
   "outputs": [
    {
     "data": {
      "text/html": [
       "<div>\n",
       "<style scoped>\n",
       "    .dataframe tbody tr th:only-of-type {\n",
       "        vertical-align: middle;\n",
       "    }\n",
       "\n",
       "    .dataframe tbody tr th {\n",
       "        vertical-align: top;\n",
       "    }\n",
       "\n",
       "    .dataframe thead th {\n",
       "        text-align: right;\n",
       "    }\n",
       "</style>\n",
       "<table border=\"1\" class=\"dataframe\">\n",
       "  <thead>\n",
       "    <tr style=\"text-align: right;\">\n",
       "      <th></th>\n",
       "      <th>Store</th>\n",
       "      <th>Size</th>\n",
       "      <th>Dept</th>\n",
       "      <th>Weekly_Sales</th>\n",
       "      <th>IsHoliday</th>\n",
       "      <th>Temperature</th>\n",
       "      <th>Fuel_Price</th>\n",
       "      <th>MarkDown1</th>\n",
       "      <th>MarkDown2</th>\n",
       "      <th>MarkDown3</th>\n",
       "      <th>MarkDown4</th>\n",
       "      <th>MarkDown5</th>\n",
       "      <th>CPI</th>\n",
       "      <th>Unemployment</th>\n",
       "    </tr>\n",
       "  </thead>\n",
       "  <tbody>\n",
       "    <tr>\n",
       "      <th>Store</th>\n",
       "      <td>1.000000</td>\n",
       "      <td>-0.182881</td>\n",
       "      <td>0.024004</td>\n",
       "      <td>-0.085195</td>\n",
       "      <td>-0.000548</td>\n",
       "      <td>-0.050097</td>\n",
       "      <td>0.065290</td>\n",
       "      <td>-0.119588</td>\n",
       "      <td>-0.035173</td>\n",
       "      <td>-0.031556</td>\n",
       "      <td>-0.009941</td>\n",
       "      <td>-0.026634</td>\n",
       "      <td>-0.211088</td>\n",
       "      <td>0.208552</td>\n",
       "    </tr>\n",
       "    <tr>\n",
       "      <th>Size</th>\n",
       "      <td>-0.182881</td>\n",
       "      <td>1.000000</td>\n",
       "      <td>-0.002966</td>\n",
       "      <td>0.243828</td>\n",
       "      <td>0.000593</td>\n",
       "      <td>-0.058313</td>\n",
       "      <td>0.003361</td>\n",
       "      <td>0.345673</td>\n",
       "      <td>0.108827</td>\n",
       "      <td>0.048913</td>\n",
       "      <td>0.168196</td>\n",
       "      <td>0.304575</td>\n",
       "      <td>-0.003314</td>\n",
       "      <td>-0.068238</td>\n",
       "    </tr>\n",
       "    <tr>\n",
       "      <th>Dept</th>\n",
       "      <td>0.024004</td>\n",
       "      <td>-0.002966</td>\n",
       "      <td>1.000000</td>\n",
       "      <td>0.148032</td>\n",
       "      <td>0.000916</td>\n",
       "      <td>0.004437</td>\n",
       "      <td>0.003572</td>\n",
       "      <td>-0.002426</td>\n",
       "      <td>0.000290</td>\n",
       "      <td>0.001784</td>\n",
       "      <td>0.004257</td>\n",
       "      <td>0.000109</td>\n",
       "      <td>-0.007477</td>\n",
       "      <td>0.007837</td>\n",
       "    </tr>\n",
       "    <tr>\n",
       "      <th>Weekly_Sales</th>\n",
       "      <td>-0.085195</td>\n",
       "      <td>0.243828</td>\n",
       "      <td>0.148032</td>\n",
       "      <td>1.000000</td>\n",
       "      <td>0.012774</td>\n",
       "      <td>-0.002312</td>\n",
       "      <td>-0.000120</td>\n",
       "      <td>0.085251</td>\n",
       "      <td>0.024130</td>\n",
       "      <td>0.060385</td>\n",
       "      <td>0.045414</td>\n",
       "      <td>0.090362</td>\n",
       "      <td>-0.020921</td>\n",
       "      <td>-0.025864</td>\n",
       "    </tr>\n",
       "    <tr>\n",
       "      <th>IsHoliday</th>\n",
       "      <td>-0.000548</td>\n",
       "      <td>0.000593</td>\n",
       "      <td>0.000916</td>\n",
       "      <td>0.012774</td>\n",
       "      <td>1.000000</td>\n",
       "      <td>-0.155949</td>\n",
       "      <td>-0.078281</td>\n",
       "      <td>-0.035586</td>\n",
       "      <td>0.334818</td>\n",
       "      <td>0.427960</td>\n",
       "      <td>-0.000562</td>\n",
       "      <td>-0.053719</td>\n",
       "      <td>-0.001944</td>\n",
       "      <td>0.010460</td>\n",
       "    </tr>\n",
       "    <tr>\n",
       "      <th>Temperature</th>\n",
       "      <td>-0.050097</td>\n",
       "      <td>-0.058313</td>\n",
       "      <td>0.004437</td>\n",
       "      <td>-0.002312</td>\n",
       "      <td>-0.155949</td>\n",
       "      <td>1.000000</td>\n",
       "      <td>0.143859</td>\n",
       "      <td>-0.040594</td>\n",
       "      <td>-0.323927</td>\n",
       "      <td>-0.096880</td>\n",
       "      <td>-0.063947</td>\n",
       "      <td>-0.017544</td>\n",
       "      <td>0.182112</td>\n",
       "      <td>0.096730</td>\n",
       "    </tr>\n",
       "    <tr>\n",
       "      <th>Fuel_Price</th>\n",
       "      <td>0.065290</td>\n",
       "      <td>0.003361</td>\n",
       "      <td>0.003572</td>\n",
       "      <td>-0.000120</td>\n",
       "      <td>-0.078281</td>\n",
       "      <td>0.143859</td>\n",
       "      <td>1.000000</td>\n",
       "      <td>0.061371</td>\n",
       "      <td>-0.220895</td>\n",
       "      <td>-0.102092</td>\n",
       "      <td>-0.044986</td>\n",
       "      <td>-0.128065</td>\n",
       "      <td>-0.164210</td>\n",
       "      <td>-0.033853</td>\n",
       "    </tr>\n",
       "    <tr>\n",
       "      <th>MarkDown1</th>\n",
       "      <td>-0.119588</td>\n",
       "      <td>0.345673</td>\n",
       "      <td>-0.002426</td>\n",
       "      <td>0.085251</td>\n",
       "      <td>-0.035586</td>\n",
       "      <td>-0.040594</td>\n",
       "      <td>0.061371</td>\n",
       "      <td>1.000000</td>\n",
       "      <td>0.024486</td>\n",
       "      <td>-0.108115</td>\n",
       "      <td>0.819238</td>\n",
       "      <td>0.160257</td>\n",
       "      <td>-0.055558</td>\n",
       "      <td>0.050285</td>\n",
       "    </tr>\n",
       "    <tr>\n",
       "      <th>MarkDown2</th>\n",
       "      <td>-0.035173</td>\n",
       "      <td>0.108827</td>\n",
       "      <td>0.000290</td>\n",
       "      <td>0.024130</td>\n",
       "      <td>0.334818</td>\n",
       "      <td>-0.323927</td>\n",
       "      <td>-0.220895</td>\n",
       "      <td>0.024486</td>\n",
       "      <td>1.000000</td>\n",
       "      <td>-0.050108</td>\n",
       "      <td>-0.007768</td>\n",
       "      <td>-0.007440</td>\n",
       "      <td>-0.039534</td>\n",
       "      <td>0.020940</td>\n",
       "    </tr>\n",
       "    <tr>\n",
       "      <th>MarkDown3</th>\n",
       "      <td>-0.031556</td>\n",
       "      <td>0.048913</td>\n",
       "      <td>0.001784</td>\n",
       "      <td>0.060385</td>\n",
       "      <td>0.427960</td>\n",
       "      <td>-0.096880</td>\n",
       "      <td>-0.102092</td>\n",
       "      <td>-0.108115</td>\n",
       "      <td>-0.050108</td>\n",
       "      <td>1.000000</td>\n",
       "      <td>-0.071095</td>\n",
       "      <td>-0.026467</td>\n",
       "      <td>-0.023590</td>\n",
       "      <td>0.012818</td>\n",
       "    </tr>\n",
       "    <tr>\n",
       "      <th>MarkDown4</th>\n",
       "      <td>-0.009941</td>\n",
       "      <td>0.168196</td>\n",
       "      <td>0.004257</td>\n",
       "      <td>0.045414</td>\n",
       "      <td>-0.000562</td>\n",
       "      <td>-0.063947</td>\n",
       "      <td>-0.044986</td>\n",
       "      <td>0.819238</td>\n",
       "      <td>-0.007768</td>\n",
       "      <td>-0.071095</td>\n",
       "      <td>1.000000</td>\n",
       "      <td>0.107792</td>\n",
       "      <td>-0.049628</td>\n",
       "      <td>0.024963</td>\n",
       "    </tr>\n",
       "    <tr>\n",
       "      <th>MarkDown5</th>\n",
       "      <td>-0.026634</td>\n",
       "      <td>0.304575</td>\n",
       "      <td>0.000109</td>\n",
       "      <td>0.090362</td>\n",
       "      <td>-0.053719</td>\n",
       "      <td>-0.017544</td>\n",
       "      <td>-0.128065</td>\n",
       "      <td>0.160257</td>\n",
       "      <td>-0.007440</td>\n",
       "      <td>-0.026467</td>\n",
       "      <td>0.107792</td>\n",
       "      <td>1.000000</td>\n",
       "      <td>0.060630</td>\n",
       "      <td>-0.003843</td>\n",
       "    </tr>\n",
       "    <tr>\n",
       "      <th>CPI</th>\n",
       "      <td>-0.211088</td>\n",
       "      <td>-0.003314</td>\n",
       "      <td>-0.007477</td>\n",
       "      <td>-0.020921</td>\n",
       "      <td>-0.001944</td>\n",
       "      <td>0.182112</td>\n",
       "      <td>-0.164210</td>\n",
       "      <td>-0.055558</td>\n",
       "      <td>-0.039534</td>\n",
       "      <td>-0.023590</td>\n",
       "      <td>-0.049628</td>\n",
       "      <td>0.060630</td>\n",
       "      <td>1.000000</td>\n",
       "      <td>-0.299953</td>\n",
       "    </tr>\n",
       "    <tr>\n",
       "      <th>Unemployment</th>\n",
       "      <td>0.208552</td>\n",
       "      <td>-0.068238</td>\n",
       "      <td>0.007837</td>\n",
       "      <td>-0.025864</td>\n",
       "      <td>0.010460</td>\n",
       "      <td>0.096730</td>\n",
       "      <td>-0.033853</td>\n",
       "      <td>0.050285</td>\n",
       "      <td>0.020940</td>\n",
       "      <td>0.012818</td>\n",
       "      <td>0.024963</td>\n",
       "      <td>-0.003843</td>\n",
       "      <td>-0.299953</td>\n",
       "      <td>1.000000</td>\n",
       "    </tr>\n",
       "  </tbody>\n",
       "</table>\n",
       "</div>"
      ],
      "text/plain": [
       "                 Store      Size      Dept  Weekly_Sales  IsHoliday  \\\n",
       "Store         1.000000 -0.182881  0.024004     -0.085195  -0.000548   \n",
       "Size         -0.182881  1.000000 -0.002966      0.243828   0.000593   \n",
       "Dept          0.024004 -0.002966  1.000000      0.148032   0.000916   \n",
       "Weekly_Sales -0.085195  0.243828  0.148032      1.000000   0.012774   \n",
       "IsHoliday    -0.000548  0.000593  0.000916      0.012774   1.000000   \n",
       "Temperature  -0.050097 -0.058313  0.004437     -0.002312  -0.155949   \n",
       "Fuel_Price    0.065290  0.003361  0.003572     -0.000120  -0.078281   \n",
       "MarkDown1    -0.119588  0.345673 -0.002426      0.085251  -0.035586   \n",
       "MarkDown2    -0.035173  0.108827  0.000290      0.024130   0.334818   \n",
       "MarkDown3    -0.031556  0.048913  0.001784      0.060385   0.427960   \n",
       "MarkDown4    -0.009941  0.168196  0.004257      0.045414  -0.000562   \n",
       "MarkDown5    -0.026634  0.304575  0.000109      0.090362  -0.053719   \n",
       "CPI          -0.211088 -0.003314 -0.007477     -0.020921  -0.001944   \n",
       "Unemployment  0.208552 -0.068238  0.007837     -0.025864   0.010460   \n",
       "\n",
       "              Temperature  Fuel_Price  MarkDown1  MarkDown2  MarkDown3  \\\n",
       "Store           -0.050097    0.065290  -0.119588  -0.035173  -0.031556   \n",
       "Size            -0.058313    0.003361   0.345673   0.108827   0.048913   \n",
       "Dept             0.004437    0.003572  -0.002426   0.000290   0.001784   \n",
       "Weekly_Sales    -0.002312   -0.000120   0.085251   0.024130   0.060385   \n",
       "IsHoliday       -0.155949   -0.078281  -0.035586   0.334818   0.427960   \n",
       "Temperature      1.000000    0.143859  -0.040594  -0.323927  -0.096880   \n",
       "Fuel_Price       0.143859    1.000000   0.061371  -0.220895  -0.102092   \n",
       "MarkDown1       -0.040594    0.061371   1.000000   0.024486  -0.108115   \n",
       "MarkDown2       -0.323927   -0.220895   0.024486   1.000000  -0.050108   \n",
       "MarkDown3       -0.096880   -0.102092  -0.108115  -0.050108   1.000000   \n",
       "MarkDown4       -0.063947   -0.044986   0.819238  -0.007768  -0.071095   \n",
       "MarkDown5       -0.017544   -0.128065   0.160257  -0.007440  -0.026467   \n",
       "CPI              0.182112   -0.164210  -0.055558  -0.039534  -0.023590   \n",
       "Unemployment     0.096730   -0.033853   0.050285   0.020940   0.012818   \n",
       "\n",
       "              MarkDown4  MarkDown5       CPI  Unemployment  \n",
       "Store         -0.009941  -0.026634 -0.211088      0.208552  \n",
       "Size           0.168196   0.304575 -0.003314     -0.068238  \n",
       "Dept           0.004257   0.000109 -0.007477      0.007837  \n",
       "Weekly_Sales   0.045414   0.090362 -0.020921     -0.025864  \n",
       "IsHoliday     -0.000562  -0.053719 -0.001944      0.010460  \n",
       "Temperature   -0.063947  -0.017544  0.182112      0.096730  \n",
       "Fuel_Price    -0.044986  -0.128065 -0.164210     -0.033853  \n",
       "MarkDown1      0.819238   0.160257 -0.055558      0.050285  \n",
       "MarkDown2     -0.007768  -0.007440 -0.039534      0.020940  \n",
       "MarkDown3     -0.071095  -0.026467 -0.023590      0.012818  \n",
       "MarkDown4      1.000000   0.107792 -0.049628      0.024963  \n",
       "MarkDown5      0.107792   1.000000  0.060630     -0.003843  \n",
       "CPI           -0.049628   0.060630  1.000000     -0.299953  \n",
       "Unemployment   0.024963  -0.003843 -0.299953      1.000000  "
      ]
     },
     "execution_count": 7,
     "metadata": {},
     "output_type": "execute_result"
    }
   ],
   "source": [
    "X.corr()"
   ]
  },
  {
   "cell_type": "code",
   "execution_count": 8,
   "id": "3cb4ade1",
   "metadata": {},
   "outputs": [
    {
     "data": {
      "image/png": "[encoded data removed]",
      "text/plain": [
       "<Figure size 864x576 with 2 Axes>"
      ]
     },
     "metadata": {
      "needs_background": "light"
     },
     "output_type": "display_data"
    }
   ],
   "source": [
    "f = plt.figure(figsize=(12, 8))\n",
    "plt.matshow(X.corr(), fignum=f.number)\n",
    "plt.xticks(range(X.select_dtypes(['number', 'bool']).shape[1]), X.select_dtypes(['number', 'bool']).columns, fontsize=14, rotation=90)\n",
    "plt.yticks(range(X.select_dtypes(['number', 'bool']).shape[1]), X.select_dtypes(['number', 'bool']).columns, fontsize=14)\n",
    "cb = plt.colorbar()\n",
    "cb.ax.tick_params(labelsize=14)\n",
    "plt.title('Correlation Matrix', fontsize=16);"
   ]
  },
  {
   "cell_type": "markdown",
   "id": "082ed0f8",
   "metadata": {},
   "source": [
    "- We can notice that there's a weak correlation between Weekly Sales and 'Size' and Weekly Sales and 'Dept'\n",
    "- Different correlation exists between the Markdowns, especially with Markdown1"
   ]
  },
  {
   "cell_type": "markdown",
   "id": "329fd3e3",
   "metadata": {},
   "source": [
    "## Histogram\n",
    "Let's plot the histogram to look at the distribution of numeric variables."
   ]
  },
  {
   "cell_type": "code",
   "execution_count": 9,
   "id": "43bd1887",
   "metadata": {},
   "outputs": [
    {
     "data": {
      "text/plain": [
       "array([[<AxesSubplot:title={'center':'Size'}>,\n",
       "        <AxesSubplot:title={'center':'Dept'}>,\n",
       "        <AxesSubplot:title={'center':'Weekly_Sales'}>],\n",
       "       [<AxesSubplot:title={'center':'Temperature'}>,\n",
       "        <AxesSubplot:title={'center':'Fuel_Price'}>,\n",
       "        <AxesSubplot:title={'center':'MarkDown1'}>],\n",
       "       [<AxesSubplot:title={'center':'MarkDown2'}>,\n",
       "        <AxesSubplot:title={'center':'MarkDown3'}>,\n",
       "        <AxesSubplot:title={'center':'MarkDown4'}>],\n",
       "       [<AxesSubplot:title={'center':'MarkDown5'}>,\n",
       "        <AxesSubplot:title={'center':'CPI'}>,\n",
       "        <AxesSubplot:title={'center':'Unemployment'}>]], dtype=object)"
      ]
     },
     "execution_count": 9,
     "metadata": {},
     "output_type": "execute_result"
    },
    {
     "data": {
      "image/png": "[encoded data removed]",
      "text/plain": [
       "<Figure size 432x288 with 12 Axes>"
      ]
     },
     "metadata": {
      "needs_background": "light"
     },
     "output_type": "display_data"
    },
    {
     "data": {
      "text/plain": [
       "<Figure size 720x432 with 0 Axes>"
      ]
     },
     "metadata": {},
     "output_type": "display_data"
    }
   ],
   "source": [
    "fig, axis = plt.subplots(4, 3)\n",
    "fig = plt.figure(figsize=(10, 6))\n",
    "#create histogram for each column in DataFrame\n",
    "X.drop(\"Store\", axis=1).select_dtypes(['number']).hist(ax=axis)"
   ]
  },
  {
   "cell_type": "markdown",
   "id": "fc916b4f",
   "metadata": {},
   "source": [
    "## Categorical Variable\n",
    "The only categorical variable is the 'Type' columns"
   ]
  },
  {
   "cell_type": "code",
   "execution_count": 10,
   "id": "163b3f67",
   "metadata": {},
   "outputs": [
    {
     "data": {
      "text/plain": [
       "A    215478\n",
       "B    163495\n",
       "C     42597\n",
       "Name: Type, dtype: int64"
      ]
     },
     "execution_count": 10,
     "metadata": {},
     "output_type": "execute_result"
    }
   ],
   "source": [
    "X.Type.value_counts()"
   ]
  },
  {
   "cell_type": "markdown",
   "id": "78ef1a32",
   "metadata": {},
   "source": [
    "# Data Cleaning and Preprocessing"
   ]
  },
  {
   "cell_type": "code",
   "execution_count": 11,
   "id": "cd34d718",
   "metadata": {},
   "outputs": [],
   "source": [
    "# Drop all markdown columns because of missing values\n",
    "X = X.drop(columns=[\"MarkDown1\", 'MarkDown2', 'MarkDown3', \"MarkDown4\", 'MarkDown5'])\n",
    "Xtest = Xtest.drop(columns=[\"MarkDown1\", 'MarkDown2', 'MarkDown3', \"MarkDown4\", 'MarkDown5'])"
   ]
  },
  {
   "cell_type": "markdown",
   "id": "537ae812",
   "metadata": {},
   "source": [
    "## Handle missing values\n",
    "After we dropped the MarkDowns, there's still missing values left in the 'Unemployment' and 'CPI' columns on the test set."
   ]
  },
  {
   "cell_type": "code",
   "execution_count": 12,
   "id": "5fd50e8e",
   "metadata": {},
   "outputs": [],
   "source": [
    "Xtest.Unemployment.fillna(Xtest.Unemployment.mean(), inplace=True)\n",
    "Xtest.CPI.fillna(Xtest.CPI.mean(), inplace=True)"
   ]
  },
  {
   "cell_type": "markdown",
   "id": "b09dd23b",
   "metadata": {},
   "source": [
    "## Encode categorical attributes and boolean attributes"
   ]
  },
  {
   "cell_type": "code",
   "execution_count": 13,
   "id": "fe62dbd2",
   "metadata": {},
   "outputs": [],
   "source": [
    "# Categorical\n",
    "X.loc[X.Type == 'A', 'Type'] = 2\n",
    "X.loc[X.Type == 'B', 'Type'] = 1\n",
    "X.loc[X.Type == 'C', 'Type'] = 0\n",
    "Xtest.loc[Xtest.Type == 'A', 'Type'] = 2\n",
    "Xtest.loc[Xtest.Type == 'B', 'Type'] = 1\n",
    "Xtest.loc[Xtest.Type == 'C', 'Type'] = 0\n",
    "\n",
    "# boolean attributes\n",
    "X.loc[X[\"IsHoliday\"] == True, 'IsHoliday'] = 1\n",
    "X.loc[X[\"IsHoliday\"] == False, 'IsHoliday'] = 0\n",
    "Xtest.loc[X[\"IsHoliday\"] == True, 'IsHoliday'] = 1\n",
    "Xtest.loc[X[\"IsHoliday\"] == False, 'IsHoliday'] = 0\n",
    "\n",
    "X.IsHoliday = X.IsHoliday.astype('int32')\n",
    "X.Type = X.Type.astype('int32')\n",
    "Xtest.IsHoliday = Xtest.IsHoliday.astype('int32')\n",
    "Xtest.Type = Xtest.Type.astype('int32')"
   ]
  },
  {
   "cell_type": "markdown",
   "id": "9c75175a",
   "metadata": {},
   "source": [
    "## Encode 'Date' feature as cyclical feature\n",
    "When encoding the 'Date' feature, we have two choice :\n",
    "- either we replace it with 'Week Of The Year\n",
    "- ... or encode it as a cyclical feature\n",
    "\n",
    "Let's do both and see the prediction accuracy on both dataset."
   ]
  },
  {
   "cell_type": "code",
   "execution_count": 14,
   "id": "78e29042",
   "metadata": {},
   "outputs": [],
   "source": [
    "def extract_year_and_month(dateString):\n",
    "    year = dateString[:4]\n",
    "    month = dateString[5:7]\n",
    "    return year, month\n",
    "\n",
    "## Encode for train data\n",
    "year_values = []\n",
    "month_values = []\n",
    "\n",
    "for date in X.Date.values:\n",
    "    year, month = extract_year_and_month(date)\n",
    "    year_values.append(year)\n",
    "    month_values.append(month)\n",
    "    \n",
    "X[\"Year\"] = year_values\n",
    "X[\"Month\"] = month_values\n",
    "\n",
    "## Encode for test data\n",
    "year_values = []\n",
    "month_values = []\n",
    "\n",
    "for date in Xtest.Date.values:\n",
    "    year, month = extract_year_and_month(date)\n",
    "    year_values.append(year)\n",
    "    month_values.append(month)\n",
    "    \n",
    "Xtest[\"Year\"] = year_values\n",
    "Xtest[\"Month\"] = month_values"
   ]
  },
  {
   "cell_type": "code",
   "execution_count": 15,
   "id": "a0d4e710",
   "metadata": {},
   "outputs": [],
   "source": [
    "## Create month sin and month cos\n",
    "def sin_transform(values):\n",
    "    return np.sin(2*np.pi*values/12)\n",
    "\n",
    "def cos_transform(values):\n",
    "    return np.cos(2*np.pi*values/12)\n",
    "\n",
    "X['MonthSin'] = sin_transform(X.Month.values.astype('int32'))\n",
    "X['MonthCos'] = cos_transform(X.Month.values.astype('int32'))\n",
    "Xtest['MonthSin'] = sin_transform(Xtest.Month.values.astype('int32'))\n",
    "Xtest['MonthCos'] = cos_transform(Xtest.Month.values.astype('int32'))\n",
    "\n",
    "## Drop year because the year is just an integer and it doesn't carry information for the prediction\n",
    "## Only season change influence the prediction, which is already carried inside the 'Month' feature.\n",
    "X = X.drop([\"Date\", \"Year\", \"Month\"], axis=1)\n",
    "Xtest = Xtest.drop([\"Date\", \"Year\", \"Month\"], axis=1)"
   ]
  },
  {
   "cell_type": "markdown",
   "id": "47f1f12b",
   "metadata": {},
   "source": [
    "## Extract validation dataset\n",
    "We're using the *val_rat* variable to define the validation dataset ratio."
   ]
  },
  {
   "cell_type": "code",
   "execution_count": 16,
   "id": "5d7cb093",
   "metadata": {},
   "outputs": [],
   "source": [
    "val_rat = 0.01 # validation_ratio\n",
    "validation_indexes = np.random.choice(len(X), (int(np.floor(len(X)*val_rat)),), replace=False)\n",
    "Xval = X.loc[validation_indexes]\n",
    "X = X.drop(validation_indexes, axis=0)"
   ]
  },
  {
   "cell_type": "code",
   "execution_count": 17,
   "id": "355d788e",
   "metadata": {},
   "outputs": [],
   "source": [
    "# Get targets\n",
    "y = pd.DataFrame(X.Weekly_Sales, columns=[\"Weekly_Sales\"])\n",
    "yval = pd.DataFrame(Xval.Weekly_Sales, columns=[\"Weekly_Sales\"])\n",
    "X = X.drop(columns='Weekly_Sales')\n",
    "Xval = Xval.drop(columns='Weekly_Sales')"
   ]
  },
  {
   "cell_type": "code",
   "execution_count": 18,
   "id": "aad665ce",
   "metadata": {},
   "outputs": [],
   "source": [
    "# Normalize data\n",
    "def standardize(dataframe):\n",
    "    for col in dataframe.select_dtypes(include='number').columns:\n",
    "        if col != 'Store': # Exclude the Store ID\n",
    "            dataframe[col] = (dataframe[col] - dataframe[col].mean()) / dataframe[col].std()\n",
    "    \n",
    "X_not_standard = X.copy()\n",
    "Xval_not_standard = Xval.copy()\n",
    "Xtest_not_standard = Xtest.copy()\n",
    "\n",
    "standardize(X)\n",
    "standardize(Xval)\n",
    "standardize(Xtest)"
   ]
  },
  {
   "cell_type": "code",
   "execution_count": 19,
   "id": "dfddba45",
   "metadata": {},
   "outputs": [],
   "source": [
    "# Measure of Model Accuracy\n",
    "def rmse(predicted, target):\n",
    "    if len(predicted) != len(target):\n",
    "        return(\"Error: target and predicted array length are not the same !\")\n",
    "    else:\n",
    "        n = len(predicted)\n",
    "        return round(np.sqrt(np.sum(np.power(predicted - target, 2)) / n), 2)\n",
    "    \n",
    "    \n",
    "def mse(predicted, target):\n",
    "    if len(predicted) != len(target):\n",
    "        return(\"Error: target and predicted array length are not the same !\")\n",
    "    else:\n",
    "        n = len(predicted)\n",
    "        return round(np.sum(np.power(predicted - target, 2)) / n, 2)\n",
    "    \n",
    "\n",
    "def rss(predicted, target):\n",
    "    # Residual Sum Square\n",
    "    return np.sum(np.power(predicted - target, 2))\n",
    "\n",
    "def tss(target):\n",
    "    # Total Sum Square\n",
    "    return np.sum(target - np.mean(target))\n",
    "    \n",
    "def r2(predicted, target):\n",
    "    return round(1 - rss(predicted, target)/tss(target), 2)"
   ]
  },
  {
   "cell_type": "code",
   "execution_count": 20,
   "id": "632a4542",
   "metadata": {},
   "outputs": [],
   "source": [
    "# Linear Regression\n",
    "from sklearn.linear_model import LinearRegression\n",
    "linReg = LinearRegression()\n",
    "linReg.fit(X.values,y.values)\n",
    "linReg_predicted = linReg.predict(Xval.values)"
   ]
  },
  {
   "cell_type": "code",
   "execution_count": 21,
   "id": "3d7477ea",
   "metadata": {},
   "outputs": [],
   "source": [
    "# Lasso Regression\n",
    "from sklearn.linear_model import Lasso\n",
    "lasso = Lasso(alpha=0.1)\n",
    "lasso.fit(X.values, y.values)\n",
    "lasso_predicted = lasso.predict(Xval.values)"
   ]
  },
  {
   "cell_type": "code",
   "execution_count": 22,
   "id": "647a354b",
   "metadata": {},
   "outputs": [
    {
     "name": "stderr",
     "output_type": "stream",
     "text": [
      "/tmp/ipykernel_38242/1528662672.py:4: DataConversionWarning: A column-vector y was passed when a 1d array was expected. Please change the shape of y to (n_samples,), for example using ravel().\n",
      "  randomForest.fit(X.values, y.values)\n"
     ]
    }
   ],
   "source": [
    "# Random Forest\n",
    "from sklearn.ensemble import RandomForestRegressor\n",
    "randomForest = RandomForestRegressor(n_estimators=30)\n",
    "randomForest.fit(X.values, y.values)\n",
    "randomForest_predict = randomForest.predict(Xval.values)"
   ]
  },
  {
   "cell_type": "markdown",
   "id": "d37845d7",
   "metadata": {},
   "source": [
    "# Compare model and analyzing the result"
   ]
  },
  {
   "cell_type": "code",
   "execution_count": 23,
   "id": "3554f88a",
   "metadata": {},
   "outputs": [],
   "source": [
    "# Compare model\n",
    "from sklearn.metrics import r2_score\n",
    "predictor_names = ['Linear Regression', 'Lasso Regression', 'RandomForest']\n",
    "perf_metrics = [\"RMSE\", \"R2\"]\n",
    "result_values = [\n",
    "    {\"RMSE\": rmse(linReg_predicted, yval.values), \"R2\": r2_score(yval.values, linReg_predicted)},\n",
    "    {\"RMSE\": rmse(lasso_predicted, yval.values), \"R2\": r2_score(yval.values, lasso_predicted)},\n",
    "    {\"RMSE\": rmse(randomForest_predict, yval.values), \"R2\": r2_score(yval.values, randomForest_predict)},\n",
    "]\n",
    "result_table = pd.DataFrame(result_values, index=predictor_names)"
   ]
  },
  {
   "cell_type": "code",
   "execution_count": 24,
   "id": "38b214f9",
   "metadata": {},
   "outputs": [
    {
     "data": {
      "text/html": [
       "<div>\n",
       "<style scoped>\n",
       "    .dataframe tbody tr th:only-of-type {\n",
       "        vertical-align: middle;\n",
       "    }\n",
       "\n",
       "    .dataframe tbody tr th {\n",
       "        vertical-align: top;\n",
       "    }\n",
       "\n",
       "    .dataframe thead th {\n",
       "        text-align: right;\n",
       "    }\n",
       "</style>\n",
       "<table border=\"1\" class=\"dataframe\">\n",
       "  <thead>\n",
       "    <tr style=\"text-align: right;\">\n",
       "      <th></th>\n",
       "      <th>RMSE</th>\n",
       "      <th>R2</th>\n",
       "    </tr>\n",
       "  </thead>\n",
       "  <tbody>\n",
       "    <tr>\n",
       "      <th>Linear Regression</th>\n",
       "      <td>22047.70</td>\n",
       "      <td>0.084869</td>\n",
       "    </tr>\n",
       "    <tr>\n",
       "      <th>Lasso Regression</th>\n",
       "      <td>1558975.12</td>\n",
       "      <td>0.084869</td>\n",
       "    </tr>\n",
       "    <tr>\n",
       "      <th>RandomForest</th>\n",
       "      <td>2088780.07</td>\n",
       "      <td>0.936754</td>\n",
       "    </tr>\n",
       "  </tbody>\n",
       "</table>\n",
       "</div>"
      ],
      "text/plain": [
       "                         RMSE        R2\n",
       "Linear Regression    22047.70  0.084869\n",
       "Lasso Regression   1558975.12  0.084869\n",
       "RandomForest       2088780.07  0.936754"
      ]
     },
     "execution_count": 24,
     "metadata": {},
     "output_type": "execute_result"
    }
   ],
   "source": [
    "result_table"
   ]
  },
  {
   "cell_type": "markdown",
   "id": "6d3511d6",
   "metadata": {},
   "source": [
    "Let's see the most important feature by looking at the *feature_importances* propriety of the random forest"
   ]
  },
  {
   "cell_type": "code",
   "execution_count": 25,
   "id": "2f23d446",
   "metadata": {},
   "outputs": [
    {
     "ename": "AttributeError",
     "evalue": "'RandomForestRegressor' object has no attribute 'feature_importances'",
     "output_type": "error",
     "traceback": [
      "\u001b[0;31m---------------------------------------------------------------------------\u001b[0m",
      "\u001b[0;31mAttributeError\u001b[0m                            Traceback (most recent call last)",
      "Input \u001b[0;32mIn [25]\u001b[0m, in \u001b[0;36m<cell line: 1>\u001b[0;34m()\u001b[0m\n\u001b[0;32m----> 1\u001b[0m \u001b[43mrandomForest\u001b[49m\u001b[38;5;241;43m.\u001b[39;49m\u001b[43mfeature_importances\u001b[49m\n",
      "\u001b[0;31mAttributeError\u001b[0m: 'RandomForestRegressor' object has no attribute 'feature_importances'"
     ]
    }
   ],
   "source": [
    "randomForest.feature_importances"
   ]
  }
 ],
 "metadata": {
  "kernelspec": {
   "display_name": "Python 3 (ipykernel)",
   "language": "python",
   "name": "python3"
  },
  "language_info": {
   "codemirror_mode": {
    "name": "ipython",
    "version": 3
   },
   "file_extension": ".py",
   "mimetype": "text/x-python",
   "name": "python",
   "nbconvert_exporter": "python",
   "pygments_lexer": "ipython3",
   "version": "3.9.12"
  },
  "vscode": {
   "interpreter": {
    "hash": "b5f67f690aefc5ca46e15d5a029b23d31192fe73c6d5d2f14066f15f00713d8f"
   }
  }
 },
 "nbformat": 4,
 "nbformat_minor": 5
}
